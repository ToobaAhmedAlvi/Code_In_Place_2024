{
 "cells": [
  {
   "cell_type": "code",
   "execution_count": 1,
   "metadata": {},
   "outputs": [
    {
     "name": "stdout",
     "output_type": "stream",
     "text": [
      "{'brand': 'Ford', 'model': 'Mustang', 'year': 1964}\n"
     ]
    }
   ],
   "source": [
    "\n",
    "my_dict = {\n",
    "  \"brand\": \"Ford\",\n",
    "  \"model\": \"Mustang\",\n",
    "  \"year\": 1964\n",
    "}\n",
    "\n",
    "'''\n",
    "#variable_name= dict(key = value,....)\n",
    "my_dict = dict(brand = [\"Ford\",\"Lamborghini\"],model=\"Mustang\", year= 1964)\n",
    "'''\n",
    "\n",
    "print(my_dict)"
   ]
  },
  {
   "cell_type": "code",
   "execution_count": 9,
   "metadata": {},
   "outputs": [
    {
     "name": "stdout",
     "output_type": "stream",
     "text": [
      "Apple 12\n",
      "present in list 12\n",
      "mango 20\n",
      "present in list 20\n"
     ]
    }
   ],
   "source": [
    "#fruit={key:value,key:value}\n",
    "fruit={'Apple':12,'mango':20}\n",
    "fruit.keys()\n",
    "input_user=input(\"Enter fruit\")\n",
    "for key,value in fruit.items():\n",
    "    print(key,value)\n",
    "    if input_user in fruit.keys():\n",
    "        print(\"present in list\",value) \n",
    "    else:\n",
    "        print(\"not present\")\n",
    "    \n"
   ]
  },
  {
   "cell_type": "code",
   "execution_count": null,
   "metadata": {},
   "outputs": [],
   "source": []
  },
  {
   "cell_type": "code",
   "execution_count": 6,
   "metadata": {},
   "outputs": [
    {
     "name": "stdout",
     "output_type": "stream",
     "text": [
      "Ford\n",
      "1964\n"
     ]
    }
   ],
   "source": [
    "print(my_dict[\"brand\"][0])\n",
    "print(my_dict[\"year\"])"
   ]
  },
  {
   "cell_type": "code",
   "execution_count": 7,
   "metadata": {},
   "outputs": [
    {
     "data": {
      "text/plain": [
       "3"
      ]
     },
     "execution_count": 7,
     "metadata": {},
     "output_type": "execute_result"
    }
   ],
   "source": [
    "len(my_dict)"
   ]
  },
  {
   "cell_type": "code",
   "execution_count": 6,
   "metadata": {},
   "outputs": [
    {
     "data": {
      "text/plain": [
       "dict"
      ]
     },
     "execution_count": 6,
     "metadata": {},
     "output_type": "execute_result"
    }
   ],
   "source": [
    "type(my_dict)"
   ]
  },
  {
   "cell_type": "code",
   "execution_count": 3,
   "metadata": {},
   "outputs": [
    {
     "data": {
      "text/plain": [
       "dict"
      ]
     },
     "execution_count": 3,
     "metadata": {},
     "output_type": "execute_result"
    }
   ],
   "source": [
    "empty_dict={}\n",
    "type(empty_dict)"
   ]
  },
  {
   "cell_type": "code",
   "execution_count": 9,
   "metadata": {},
   "outputs": [],
   "source": [
    "empty_dict['Name']=['Moaaz','Tooba']"
   ]
  },
  {
   "cell_type": "code",
   "execution_count": 20,
   "metadata": {},
   "outputs": [
    {
     "name": "stdout",
     "output_type": "stream",
     "text": [
      "{'Name': ['Moaaz', 'Tooba'], 'contact': ['4678-899', '2367-768']}\n"
     ]
    }
   ],
   "source": [
    "empty_dict[\"contact\"]=['4678-899','2367-768']\n",
    "\n",
    "print(empty_dict)\n"
   ]
  },
  {
   "cell_type": "code",
   "execution_count": 25,
   "metadata": {},
   "outputs": [
    {
     "name": "stdout",
     "output_type": "stream",
     "text": [
      "Moaaz\n"
     ]
    }
   ],
   "source": [
    "print(empty_dict['Name'][0])"
   ]
  },
  {
   "cell_type": "code",
   "execution_count": 13,
   "metadata": {},
   "outputs": [],
   "source": [
    "#del a key from a dictionary\n",
    "del empty_dict[\"Name\"]"
   ]
  },
  {
   "cell_type": "code",
   "execution_count": 16,
   "metadata": {},
   "outputs": [
    {
     "name": "stdout",
     "output_type": "stream",
     "text": [
      "['4678-899', '2367-768']\n"
     ]
    }
   ],
   "source": [
    "#Assigning values to specific keys\n",
    "#value=empty_dict['contact']\n",
    "values=empty_dict.get('contact')\n",
    "print(values)"
   ]
  },
  {
   "cell_type": "code",
   "execution_count": 17,
   "metadata": {},
   "outputs": [],
   "source": [
    "empty_dict['Name']=['Moaaz','Tooba']"
   ]
  },
  {
   "cell_type": "code",
   "execution_count": 19,
   "metadata": {},
   "outputs": [
    {
     "data": {
      "text/plain": [
       "{'Name': ['Moaaz', 'Tooba']}"
      ]
     },
     "execution_count": 19,
     "metadata": {},
     "output_type": "execute_result"
    }
   ],
   "source": [
    "empty_dict.pop(\"contact\")\n",
    "empty_dict"
   ]
  },
  {
   "cell_type": "code",
   "execution_count": 24,
   "metadata": {},
   "outputs": [
    {
     "name": "stdout",
     "output_type": "stream",
     "text": [
      "dict_values([['Moaaz', 'Tooba'], ['4678-899', '2367-768']])\n",
      "dict_keys(['Name', 'contact'])\n",
      "dict_items([('Name', ['Moaaz', 'Tooba']), ('contact', ['4678-899', '2367-768'])])\n"
     ]
    }
   ],
   "source": [
    "print(empty_dict.values())\n",
    "print(empty_dict.keys())\n",
    "print(empty_dict.items())"
   ]
  },
  {
   "cell_type": "code",
   "execution_count": 27,
   "metadata": {},
   "outputs": [
    {
     "name": "stdout",
     "output_type": "stream",
     "text": [
      "Name --> ['Moaaz', 'Tooba']\n",
      "contact --> ['4678-899', '2367-768']\n"
     ]
    }
   ],
   "source": [
    "for keys,values in empty_dict.items():\n",
    "    print(keys, \"-->\",values)\n",
    "    "
   ]
  },
  {
   "cell_type": "code",
   "execution_count": 29,
   "metadata": {},
   "outputs": [
    {
     "name": "stdout",
     "output_type": "stream",
     "text": [
      "Name\n",
      "contact\n"
     ]
    }
   ],
   "source": [
    "for keys in empty_dict.keys():\n",
    "    print(keys)"
   ]
  },
  {
   "cell_type": "code",
   "execution_count": 31,
   "metadata": {},
   "outputs": [
    {
     "name": "stdout",
     "output_type": "stream",
     "text": [
      "['Moaaz', 'Tooba']\n",
      "['4678-899', '2367-768']\n"
     ]
    }
   ],
   "source": [
    "for values in empty_dict.values():\n",
    "    print(values)"
   ]
  }
 ],
 "metadata": {
  "kernelspec": {
   "display_name": "Python 3",
   "language": "python",
   "name": "python3"
  },
  "language_info": {
   "codemirror_mode": {
    "name": "ipython",
    "version": 3
   },
   "file_extension": ".py",
   "mimetype": "text/x-python",
   "name": "python",
   "nbconvert_exporter": "python",
   "pygments_lexer": "ipython3",
   "version": "3.11.1"
  }
 },
 "nbformat": 4,
 "nbformat_minor": 2
}
