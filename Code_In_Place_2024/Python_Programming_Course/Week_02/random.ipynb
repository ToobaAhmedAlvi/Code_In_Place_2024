{
 "cells": [
  {
   "cell_type": "code",
   "execution_count": 3,
   "metadata": {},
   "outputs": [
    {
     "data": {
      "text/plain": [
       "str"
      ]
     },
     "execution_count": 3,
     "metadata": {},
     "output_type": "execute_result"
    }
   ],
   "source": [
    "x=5\n",
    "x=str(x)\n",
    "type(x)"
   ]
  },
  {
   "cell_type": "code",
   "execution_count": 4,
   "metadata": {},
   "outputs": [
    {
     "name": "stdout",
     "output_type": "stream",
     "text": [
      "5\n"
     ]
    }
   ],
   "source": [
    "print(x)"
   ]
  },
  {
   "cell_type": "code",
   "execution_count": 15,
   "metadata": {},
   "outputs": [
    {
     "name": "stdout",
     "output_type": "stream",
     "text": [
      "False\n",
      "False\n"
     ]
    }
   ],
   "source": [
    "a=9\n",
    "b=9\n",
    "#1st condition\n",
    "print( b>a and b!=a)\n",
    "#2nd condition\n",
    "print( b>a or b!=a)\n",
    "\n"
   ]
  },
  {
   "cell_type": "code",
   "execution_count": 16,
   "metadata": {},
   "outputs": [
    {
     "name": "stdout",
     "output_type": "stream",
     "text": [
      "False\n"
     ]
    }
   ],
   "source": [
    "print(not(a==b)) "
   ]
  },
  {
   "cell_type": "code",
   "execution_count": 18,
   "metadata": {},
   "outputs": [
    {
     "name": "stdout",
     "output_type": "stream",
     "text": [
      "Good\n",
      " Night!\n"
     ]
    }
   ],
   "source": [
    " message1 = \"GoodMorning!\"\n",
    "#adding a new line-'\\n'\n",
    "message2 = \"Good\\n Night!\"\n",
    "print(message2)"
   ]
  },
  {
   "cell_type": "code",
   "execution_count": 19,
   "metadata": {},
   "outputs": [
    {
     "name": "stdout",
     "output_type": "stream",
     "text": [
      "Tooba\n"
     ]
    }
   ],
   "source": [
    "user_input=input(\"Enter your name: \")\n",
    "print(user_input)"
   ]
  },
  {
   "cell_type": "code",
   "execution_count": 30,
   "metadata": {},
   "outputs": [
    {
     "name": "stdout",
     "output_type": "stream",
     "text": [
      "Weight on Earth: 100.0\n",
      "Weights on Mars: 2.65\n"
     ]
    }
   ],
   "source": [
    "#W=m*g\n",
    "#IMPORTANCE OF CONSTANTS\n",
    "def mars_weight():\n",
    "    MARS_EQVIVALENT_WEIGHT=37.8\n",
    "    user_input=float(input(\"Enter your weight on Earth:\"))\n",
    "    print(\"Weight on Earth:\",user_input)\n",
    "    result=user_input/MARS_EQVIVALENT_WEIGHT\n",
    "    print(\"Weights on Mars:\",round(result,2))\n",
    "\n",
    "mars_weight()"
   ]
  },
  {
   "cell_type": "code",
   "execution_count": 37,
   "metadata": {},
   "outputs": [
    {
     "name": "stdout",
     "output_type": "stream",
     "text": [
      "8\n"
     ]
    }
   ],
   "source": [
    "import random\n",
    "\n",
    "#number=random.randint(\"start\",\"end\")\n",
    "number=random.randint(1,10)\n",
    "print(number)\n",
    "#taking user_input for guessing the number"
   ]
  }
 ],
 "metadata": {
  "kernelspec": {
   "display_name": "Python 3",
   "language": "python",
   "name": "python3"
  },
  "language_info": {
   "codemirror_mode": {
    "name": "ipython",
    "version": 3
   },
   "file_extension": ".py",
   "mimetype": "text/x-python",
   "name": "python",
   "nbconvert_exporter": "python",
   "pygments_lexer": "ipython3",
   "version": "3.11.1"
  }
 },
 "nbformat": 4,
 "nbformat_minor": 2
}
